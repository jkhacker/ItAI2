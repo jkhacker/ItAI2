{
 "cells": [
  {
   "cell_type": "code",
   "execution_count": 46,
   "metadata": {},
   "outputs": [],
   "source": [
    "from PIL import Image, ImageDraw\n",
    "from io import BytesIO\n",
    "from random import randrange, random as rnd\n",
    "import numpy as np\n",
    "from copy import deepcopy, copy\n",
    "import cairo\n",
    "from math import ceil\n",
    "import sys\n",
    "from numba import jit\n",
    "import matplotlib.pyplot as plt\n",
    "import imageio\n",
    "import IPython"
   ]
  },
  {
   "cell_type": "code",
   "execution_count": 22,
   "metadata": {},
   "outputs": [],
   "source": [
    "im_src = Image.open('okabe.png','r')\n",
    "colors = []\n",
    "for r, g, b, a in list(im_src.getdata()):\n",
    "    colors.append((r/255, g/255, b/255, 0.3))\n",
    "src_data = np.array(im_src)"
   ]
  },
  {
   "cell_type": "code",
   "execution_count": 23,
   "metadata": {},
   "outputs": [],
   "source": [
    "max_fit = calculate_fitness(np.zeros((512, 512, 4), dtype=np.uint8))\n",
    "pop_len = 20\n",
    "gen_len = 5000"
   ]
  },
  {
   "cell_type": "code",
   "execution_count": 68,
   "metadata": {},
   "outputs": [
    {
     "name": "stdout",
     "output_type": "stream",
     "text": [
      "CPU times: user 4.56 ms, sys: 13.9 ms, total: 18.5 ms\n",
      "Wall time: 132 ms\n"
     ]
    }
   ],
   "source": [
    "past_gen = [Creature() for i in range(pop_len)]\n",
    "!rm okabe_samples/*.png\n",
    "gif = imageio.get_writer('/Users/nikitasmirnov/git_repos/ItAI2/okabe_samples/gen_okabe.gif', mode='I')\n",
    "graph = []\n",
    "dif = 0.0\n",
    "i = 0"
   ]
  },
  {
   "cell_type": "code",
   "execution_count": 72,
   "metadata": {},
   "outputs": [
    {
     "name": "stdout",
     "output_type": "stream",
     "text": [
      "[(10, 0), (10, 1)].................................] 158/2006\n",
      "[(10, 0), (10, 1)]#................................] 443/2006\n",
      "[(10, 0), (10, 1)]##...............................] 479/2006\n",
      "[(10, 0), (10, 1)]###..............................] 508/2006\n",
      "[(10, 0), (10, 1)]###..............................] 524/2006\n",
      "[(10, 0), (10, 1)]####.............................] 588/2006\n",
      "[(10, 0), (10, 1)]#########........................] 803/2006\n",
      "[(10, 0), (10, 1)]############.....................] 954/2006\n",
      "[(10, 0), (10, 1)]############.....................] 961/2006\n",
      "[(10, 0), (10, 1)]###############..................] 1107/2006\n",
      "[(10, 0), (10, 1)]####################.............] 1381/2006\n",
      "[(10, 0), (10, 1)]#######################..........] 1511/2006\n",
      "[(10, 0), (10, 1)]#########################........] 1633/2006\n",
      "[(10, 0), (10, 1)]##########################.......] 1686/2006\n",
      "[(10, 0), (10, 1)]############################.....] 1780/2006\n",
      "[(10, 0), (10, 1)]###############################..] 1953/2006\n",
      "[(10, 0), (10, 1)]################################.] 1963/2006\n",
      "[(10, 0), (10, 1)]################################.] 1967/2006\n",
      "[(10, 0), (10, 1)]################################.] 1982/2006\n",
      "[(10, 0), (10, 1)]################################.] 1999/2006\n",
      "90.877774 [########################################] 2006/2006\n",
      "CPU times: user 9min 12s, sys: 1min, total: 10min 13s\n",
      "Wall time: 10min 20s\n"
     ]
    }
   ],
   "source": [
    "for i in progressbar(range(i, gen_len), \"Computing:\", 40):\n",
    "    children = []\n",
    "    new_gen = deepcopy(past_gen)\n",
    "    \n",
    "    # Mutations\n",
    "    \n",
    "    for being in new_gen:\n",
    "        being.mutate()\n",
    "    \n",
    "    # Concatenation with the past generation\n",
    "    \n",
    "    new_gen += past_gen\n",
    "    new_gen = sorted(new_gen, key=key)\n",
    "    \n",
    "    # Children born from first best 10 creatures (crossover function is used)\n",
    "    \n",
    "#     for j in range(1, 11):\n",
    "#         children.append(new_gen[j-1].crossover(new_gen[j]))\n",
    "    \n",
    "    # Concatenation with children\n",
    "    \n",
    "    new_gen += children\n",
    "    new_gen = sorted(new_gen, key=key)\n",
    "    \n",
    "    # Calculating parts for each creature in new generation\n",
    "    \n",
    "    arrangements = overall_arrangement(new_gen)\n",
    "    if len(arrangements) > 1:\n",
    "        print(arrangements)\n",
    "    past_gen = []\n",
    "    for part, index in arrangements:\n",
    "        past_gen += [deepcopy(new_gen[index]) for i in range(part)]\n",
    "\n",
    "    # Calculating difference with source picture\n",
    "    \n",
    "    dif = -(100*(past_gen[0].fitness/max_fit) - 100.0)\n",
    "    graph.append(dif)\n",
    "    \n",
    "    # Saving current result\n",
    "    \n",
    "    Image.fromarray(past_gen[0].data).save('okabe_samples/gen_okabe.png') \n",
    "    \n",
    "    if i % 50 == 0:\n",
    "        image = imageio.imread('/Users/nikitasmirnov/git_repos/ItAI2/okabe_samples/gen_okabe.png')\n",
    "        gif.append_data(image) "
   ]
  },
  {
   "cell_type": "code",
   "execution_count": 63,
   "metadata": {},
   "outputs": [],
   "source": [
    "def overall_arrangement(creatures: list):\n",
    "    o_fit = 0\n",
    "    delta_fit = [\n",
    "        (-(100*(creatures[i].fitness/max_fit) - 100.0), i) for i in range(len(creatures)) if creatures[i].fitness < max_fit\n",
    "    ]\n",
    "    for i in range(len(delta_fit)):\n",
    "        delta_fit[i] = (delta_fit[i][0] - delta_fit[-1][0], delta_fit[i][1])\n",
    "    for i in range(len(delta_fit)):\n",
    "        o_fit += delta_fit[i][0]\n",
    "        overall_part = 0\n",
    "        for j in range(0, i+1):\n",
    "            part = ceil(pop_len*(delta_fit[j][0]/o_fit))\n",
    "            overall_part+=part\n",
    "        if overall_part > pop_len:\n",
    "            break\n",
    "    res_len = i\n",
    "    o_fit -= delta_fit[i][0]\n",
    "    res = []\n",
    "    for i in range(res_len):\n",
    "        res.append((ceil(pop_len*(delta_fit[i][0]/o_fit)), delta_fit[i][1]))\n",
    "    return res"
   ]
  },
  {
   "cell_type": "code",
   "execution_count": 13,
   "metadata": {},
   "outputs": [],
   "source": [
    "class Creature:\n",
    "    def __init__(self, figs: list = []):\n",
    "        self.data = np.zeros((512, 512, 4), dtype=np.uint8)\n",
    "        self.surface = cairo.ImageSurface.create_for_data(self.data, cairo.FORMAT_ARGB32, 512, 512)\n",
    "        self.context = cairo.Context(self.surface)\n",
    "        self.figs = list(figs)\n",
    "        if len(self.figs) == 0:\n",
    "            self.fitness = max_fit\n",
    "        else:\n",
    "            for fig in self.figs:\n",
    "                self.context.set_source_surface(fig)\n",
    "                self.context.paint()\n",
    "            self.fitness = calculate_fitness(self.data)\n",
    "    \n",
    "    def generate_random_fig(self):\n",
    "        s = cairo.ImageSurface(cairo.Format.ARGB32, 512, 512)\n",
    "        cr = cairo.Context(s)\n",
    "        cr.scale(512, 512)\n",
    "        cr.move_to(rnd(), rnd())\n",
    "        cr.rel_line_to(self.mutation_range(), self.mutation_range())\n",
    "        cr.rel_line_to(self.mutation_range(), self.mutation_range())\n",
    "        r, g, b, a = colors[randrange(0, len(colors))]\n",
    "#         a *= dif/100 + 0.05\n",
    "        cr.set_source_rgba(r, g, b, a)\n",
    "        cr.fill_preserve()\n",
    "        return s\n",
    "    \n",
    "    def mutation_range(self):\n",
    "        alpha = ((100 - dif)/100)\n",
    "        return (rnd()-0.5)*alpha\n",
    "    \n",
    "    def mutate(self):\n",
    "        fig = self.generate_random_fig()\n",
    "        self.context.set_source_surface(fig)\n",
    "        self.context.paint()\n",
    "        self.figs.append(fig)\n",
    "        self.fitness = calculate_fitness(self.data)\n",
    "    \n",
    "    def crossover(self, dad):\n",
    "        child_figs = bogosort(self.figs + dad.figs)\n",
    "        for i in range(len(child_figs)//2):\n",
    "            child_figs.pop()\n",
    "        return Creature(child_figs)\n",
    "    \n",
    "    def show_image(self):\n",
    "        return Image.fromarray(self.data.astype('uint8')).convert('RGBA')\n",
    "    \n",
    "    def save_creature(self, name: str):\n",
    "        f = open(name, 'wb')\n",
    "        self.surface.write_to_png(f)\n",
    "        f.close()\n",
    "        \n",
    "    def __deepcopy__(self, memo):\n",
    "        cls = self.__class__\n",
    "        result = cls.__new__(cls)\n",
    "        memo[id(self)] = result\n",
    "        setattr(result, 'data', deepcopy(self.data))\n",
    "        setattr(result, 'fitness', deepcopy(self.fitness))\n",
    "        setattr(result, 'figs', list(self.figs))\n",
    "        setattr(\n",
    "            result,\n",
    "            'surface',\n",
    "            cairo.ImageSurface.create_for_data(result.data, cairo.FORMAT_ARGB32, 512, 512))\n",
    "        setattr(result, 'context', cairo.Context(result.surface))\n",
    "        return result"
   ]
  },
  {
   "cell_type": "code",
   "execution_count": 12,
   "metadata": {},
   "outputs": [],
   "source": [
    "def key(obj):\n",
    "    return obj.fitness"
   ]
  },
  {
   "cell_type": "code",
   "execution_count": 11,
   "metadata": {},
   "outputs": [],
   "source": [
    "def bogosort(l):\n",
    "    new_l = []\n",
    "    while len(l) != 0:\n",
    "        new_l.append(l.pop(randrange(0, len(l))))\n",
    "    return new_l"
   ]
  },
  {
   "cell_type": "code",
   "execution_count": 10,
   "metadata": {},
   "outputs": [],
   "source": [
    "def progressbar(it, prefix=\"\", size=60, file=sys.stdout):\n",
    "    count = len(it)\n",
    "    def show(j):\n",
    "        x = int(size*j/count)\n",
    "        file.write(\"%f [%s%s] %i/%i\\r\" % (dif, \"#\"*x, \".\"*(size-x), j, count))\n",
    "        file.flush()        \n",
    "    show(0)\n",
    "    for i, item in enumerate(it):\n",
    "        yield item\n",
    "        show(i+1)\n",
    "    file.write(\"\\n\")\n",
    "    file.flush()"
   ]
  },
  {
   "cell_type": "code",
   "execution_count": 9,
   "metadata": {},
   "outputs": [],
   "source": [
    "@jit(nopython=True)\n",
    "def calculate_fitness(data):\n",
    "    return np.sum(np.sum((src_data - data)**2, axis=2)**0.5)\n",
    "    "
   ]
  },
  {
   "cell_type": "code",
   "execution_count": 49,
   "metadata": {},
   "outputs": [
    {
     "data": {
      "image/png": "[encoded data removed]",
      "text/plain": [
       "<Figure size 432x288 with 1 Axes>"
      ]
     },
     "metadata": {
      "needs_background": "light"
     },
     "output_type": "display_data"
    },
    {
     "name": "stdout",
     "output_type": "stream",
     "text": [
      "[0.0, 0.0, 0.0, 0.0, 0.0, 0.0, 0.0, 0.0, 0.0, 0.0, 0.0, 0.0, 0.0, 0.0, 0.0, 0.0, 0.0, 0.0, 0.0, 0.0]\n"
     ]
    }
   ],
   "source": [
    "sas = [past_gen[i].fitness - past_gen[0].fitness for i in range(len(past_gen))]\n",
    "plt.plot(list(range(len(sas))), sas)\n",
    "plt.ylabel('сходимость')\n",
    "plt.show()\n",
    "print(sas)"
   ]
  },
  {
   "cell_type": "code",
   "execution_count": 39,
   "metadata": {},
   "outputs": [],
   "source": [
    "from time import sleep"
   ]
  },
  {
   "cell_type": "code",
   "execution_count": 40,
   "metadata": {},
   "outputs": [],
   "source": [
    "sleep(1)"
   ]
  },
  {
   "cell_type": "code",
   "execution_count": 30,
   "metadata": {},
   "outputs": [
    {
     "ename": "TypeError",
     "evalue": "getchannel() missing 1 required positional argument: 'channel'",
     "output_type": "error",
     "traceback": [
      "\u001b[0;31m---------------------------------------------------------------------------\u001b[0m",
      "\u001b[0;31mTypeError\u001b[0m                                 Traceback (most recent call last)",
      "\u001b[0;32m<ipython-input-30-e55a30b47ebb>\u001b[0m in \u001b[0;36m<module>\u001b[0;34m\u001b[0m\n\u001b[0;32m----> 1\u001b[0;31m \u001b[0mim_src\u001b[0m\u001b[0;34m.\u001b[0m\u001b[0mgetchannel\u001b[0m\u001b[0;34m(\u001b[0m\u001b[0;34m)\u001b[0m\u001b[0;34m\u001b[0m\u001b[0;34m\u001b[0m\u001b[0m\n\u001b[0m",
      "\u001b[0;31mTypeError\u001b[0m: getchannel() missing 1 required positional argument: 'channel'"
     ]
    }
   ],
   "source": []
  },
  {
   "cell_type": "code",
   "execution_count": null,
   "metadata": {},
   "outputs": [],
   "source": []
  }
 ],
 "metadata": {
  "kernelspec": {
   "display_name": "Python 3",
   "language": "python",
   "name": "python3"
  },
  "language_info": {
   "codemirror_mode": {
    "name": "ipython",
    "version": 3
   },
   "file_extension": ".py",
   "mimetype": "text/x-python",
   "name": "python",
   "nbconvert_exporter": "python",
   "pygments_lexer": "ipython3",
   "version": "3.7.7"
  },
  "pycharm": {
   "stem_cell": {
    "cell_type": "raw",
    "source": [],
    "metadata": {
     "collapsed": false
    }
   }
  }
 },
 "nbformat": 4,
 "nbformat_minor": 4
}