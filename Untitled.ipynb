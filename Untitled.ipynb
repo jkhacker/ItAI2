{
 "cells": [
  {
   "cell_type": "code",
   "execution_count": 42,
   "metadata": {},
   "outputs": [],
   "source": [
    "from PIL import Image, ImageDraw\n",
    "from io import BytesIO\n",
    "from random import randrange, random as rnd\n",
    "import numpy as np\n",
    "from copy import deepcopy, copy\n",
    "import cairo\n",
    "from math import ceil\n",
    "import sys\n",
    "from numba import jit\n",
    "import matplotlib.pyplot as plt"
   ]
  },
  {
   "cell_type": "code",
   "execution_count": 10,
   "metadata": {},
   "outputs": [],
   "source": [
    "im_src = Image.open('input.png','r')\n",
    "colors = []\n",
    "for r, g, b, a in list(im_src.getdata()):\n",
    "    colors.append((r/255, g/255, b/255, a/255))\n",
    "src_data = np.array(im_src)\n",
    "max_fit = calculate_fitness(np.zeros((512, 512, 4), dtype=np.uint8))\n",
    "pop_len = 50\n",
    "gen_len = 10000"
   ]
  },
  {
   "cell_type": "code",
   "execution_count": 53,
   "metadata": {},
   "outputs": [
    {
     "name": "stdout",
     "output_type": "stream",
     "text": [
      "CPU times: user 3.73 ms, sys: 10.2 ms, total: 13.9 ms\n",
      "Wall time: 122 ms\n"
     ]
    }
   ],
   "source": [
    "%%time\n",
    "past_gen = [Creature() for i in range(pop_len)]\n",
    "!rm samples/*.png\n",
    "graph = []\n",
    "dif = 0.0"
   ]
  },
  {
   "cell_type": "code",
   "execution_count": null,
   "metadata": {},
   "outputs": [
    {
     "name": "stdout",
     "output_type": "stream",
     "text": [
      "68.214865 [###.....................................] 815/8518\r"
     ]
    }
   ],
   "source": [
    "%%time\n",
    "for i in progressbar(range(i, gen_len), \"Computing:\", 40):\n",
    "    children = []\n",
    "    new_gen = deepcopy(past_gen)\n",
    "    \n",
    "    #Mutations\n",
    "    \n",
    "    for being in new_gen:\n",
    "        being.mutate()\n",
    "    \n",
    "    new_gen += past_gen\n",
    "    new_gen = sorted(new_gen, key=key)\n",
    "    \n",
    "    #Children born (crossover function is used)\n",
    "    \n",
    "    for j in range(1, 11):\n",
    "        children.append(new_gen[j-1].crossover(new_gen[j]))\n",
    "    \n",
    "    \n",
    "    new_gen += children\n",
    "    new_gen = sorted(new_gen, key=key)\n",
    "    \n",
    "    arrangements = overall_arrangement(new_gen)\n",
    "    past_gen = []\n",
    "    for index, part in arrangements:\n",
    "        past_gen += [deepcopy(new_gen[index]) for i in range(part)]\n",
    "\n",
    "    \n",
    "    dif = -(100*(past_gen[0].fitness/max_fit) - 100.0)\n",
    "    if dif > 80.0:\n",
    "        break\n",
    "    graph.append(dif)\n",
    "    past_gen[0].save_creature('samples/gen.png')\n",
    "i = 0           "
   ]
  },
  {
   "cell_type": "code",
   "execution_count": 50,
   "metadata": {},
   "outputs": [],
   "source": [
    "def overall_arrangement(creatures: list):\n",
    "    o_fit = 0\n",
    "    length = 0\n",
    "    ret = []\n",
    "    for i in range(len(creatures)):\n",
    "        o_fit += creatures[i].fitness\n",
    "        num_c = 0\n",
    "        for j in range(i+1):\n",
    "            part = ceil(pop_len*(creatures[j].fitness/o_fit))\n",
    "            num_c += part\n",
    "        if num_c > pop_len:\n",
    "            length = i\n",
    "            break\n",
    "    o_fit -= creatures[length].fitness\n",
    "    \n",
    "    for i in range(length):\n",
    "        part = ceil(pop_len*(creatures[i].fitness/o_fit))\n",
    "        ret.append((i, part))\n",
    "    return ret"
   ]
  },
  {
   "cell_type": "code",
   "execution_count": 56,
   "metadata": {},
   "outputs": [],
   "source": [
    "class Creature:\n",
    "    def __init__(self, figs: list = []):\n",
    "        self.data = np.zeros((512, 512, 4), dtype=np.uint8)\n",
    "        self.surface = cairo.ImageSurface.create_for_data(self.data, cairo.FORMAT_ARGB32, 512, 512)\n",
    "        self.context = cairo.Context(self.surface)\n",
    "        self.figs = list(figs)\n",
    "        if len(self.figs) == 0:\n",
    "            self.fitness = max_fit\n",
    "        else:\n",
    "            for fig in self.figs:\n",
    "                self.context.set_source_surface(fig)\n",
    "                self.context.paint()\n",
    "            self.fitness = calculate_fitness(self.data)\n",
    "    \n",
    "    def generate_random_fig(self):\n",
    "        s = cairo.RecordingSurface(cairo.Content.COLOR_ALPHA, None)\n",
    "        cr = cairo.Context(s)\n",
    "        cr.scale(512, 512)\n",
    "        cr.move_to(rnd(), rnd())\n",
    "        cr.rel_line_to(self.mutation_rate(), self.mutation_rate())\n",
    "        cr.rel_line_to(self.mutation_rate(), self.mutation_rate())\n",
    "        cr.set_source_rgba(*colors[randrange(0, len(colors))])\n",
    "        cr.fill_preserve()\n",
    "        return s\n",
    "    \n",
    "    def mutation_range(self):\n",
    "        return (rnd()-0.5)*0.1\n",
    "    \n",
    "    def mutate(self):\n",
    "        fig = self.generate_random_fig()\n",
    "        self.context.set_source_surface(fig)\n",
    "        self.context.paint()\n",
    "        self.figs.append(fig)\n",
    "        self.fitness = calculate_fitness(self.data)\n",
    "    \n",
    "    def crossover(self, dad):\n",
    "        child_figs = bogosort(self.figs + dad.figs)\n",
    "        for i in range(len(child_figs)//2):\n",
    "            child_figs.pop()\n",
    "        return Creature(child_figs)\n",
    "    \n",
    "    def show_image(self):\n",
    "        return Image.fromarray(self.data.astype('uint8')).convert('RGBA')\n",
    "    \n",
    "    def save_creature(self, name: str):\n",
    "        f = open(name, 'wb')\n",
    "        self.surface.write_to_png(f)\n",
    "        f.close()\n",
    "        \n",
    "    def __deepcopy__(self, memo):\n",
    "        cls = self.__class__\n",
    "        result = cls.__new__(cls)\n",
    "        memo[id(self)] = result\n",
    "        setattr(result, 'data', deepcopy(self.data))\n",
    "        setattr(result, 'fitness', deepcopy(self.fitness))\n",
    "        setattr(result, 'figs', list(self.figs))\n",
    "        setattr(\n",
    "            result,\n",
    "            'surface',\n",
    "            cairo.ImageSurface.create_for_data(result.data, cairo.FORMAT_ARGB32, 512, 512))\n",
    "        setattr(result, 'context', cairo.Context(result.surface))\n",
    "        return result"
   ]
  },
  {
   "cell_type": "code",
   "execution_count": 8,
   "metadata": {},
   "outputs": [],
   "source": [
    "def key(obj):\n",
    "    return obj.fitness"
   ]
  },
  {
   "cell_type": "code",
   "execution_count": 7,
   "metadata": {},
   "outputs": [],
   "source": [
    "def bogosort(l):\n",
    "    new_l = []\n",
    "    while len(l) != 0:\n",
    "        new_l.append(l.pop(randrange(0, len(l))))\n",
    "    return new_l"
   ]
  },
  {
   "cell_type": "code",
   "execution_count": 6,
   "metadata": {},
   "outputs": [],
   "source": [
    "def progressbar(it, prefix=\"\", size=60, file=sys.stdout):\n",
    "    count = len(it)\n",
    "    def show(j):\n",
    "        x = int(size*j/count)\n",
    "        file.write(\"%f [%s%s] %i/%i\\r\" % (dif, \"#\"*x, \".\"*(size-x), j, count))\n",
    "        file.flush()        \n",
    "    show(0)\n",
    "    for i, item in enumerate(it):\n",
    "        yield item\n",
    "        show(i+1)\n",
    "    file.write(\"\\n\")\n",
    "    file.flush()"
   ]
  },
  {
   "cell_type": "code",
   "execution_count": 5,
   "metadata": {},
   "outputs": [],
   "source": [
    "@jit(nopython=True)\n",
    "def calculate_fitness(data):\n",
    "    return np.sum(np.sum((src_data - data)**2, axis=2)**0.5)\n",
    "    "
   ]
  },
  {
   "cell_type": "code",
   "execution_count": null,
   "metadata": {},
   "outputs": [],
   "source": [
    "\n",
    "plt.plot(list(range(len(graph))), graph)\n",
    "plt.ylabel('сходимость')\n",
    "plt.show()"
   ]
  },
  {
   "cell_type": "code",
   "execution_count": null,
   "metadata": {},
   "outputs": [],
   "source": []
  }
 ],
 "metadata": {
  "kernelspec": {
   "display_name": "Python 3",
   "language": "python",
   "name": "python3"
  },
  "language_info": {
   "codemirror_mode": {
    "name": "ipython",
    "version": 3
   },
   "file_extension": ".py",
   "mimetype": "text/x-python",
   "name": "python",
   "nbconvert_exporter": "python",
   "pygments_lexer": "ipython3",
   "version": "3.7.7"
  }
 },
 "nbformat": 4,
 "nbformat_minor": 4
}
