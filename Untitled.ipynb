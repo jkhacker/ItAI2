{
 "cells": [
  {
   "cell_type": "code",
   "execution_count": 27,
   "metadata": {},
   "outputs": [],
   "source": [
    "from PIL import Image, ImageDraw\n",
    "from io import BytesIO\n",
    "from random import randrange, random as rnd\n",
    "import numpy as np\n",
    "from copy import deepcopy, copy\n",
    "import cairo\n",
    "from math import ceil\n",
    "import sys\n",
    "from numba import jit"
   ]
  },
  {
   "cell_type": "code",
   "execution_count": 46,
   "metadata": {},
   "outputs": [],
   "source": [
    "im_src = Image.open('input.png','r')\n",
    "colors = []\n",
    "for r, g, b, a in list(im_src.getdata()):\n",
    "    colors.append((r/255, g/255, b/255, a/255))\n",
    "src_data = np.array(im_src)\n",
    "max_fit = fitness(np.zeros((512, 512, 4), dtype=np.uint8))"
   ]
  },
  {
   "cell_type": "code",
   "execution_count": 57,
   "metadata": {},
   "outputs": [],
   "source": [
    "pop_len = 50\n",
    "gen_len = 10000"
   ]
  },
  {
   "cell_type": "code",
   "execution_count": 5,
   "metadata": {},
   "outputs": [],
   "source": [
    "def generate_init(glen):\n",
    "    return [\n",
    "        {\n",
    "            'image': np.zeros((512, 512, 4), dtype=np.uint8),\n",
    "            'fitness': fitness(np.zeros((512, 512, 4), dtype=np.uint8)),\n",
    "            'figs':[]\n",
    "        } for i in range(glen)\n",
    "    ]"
   ]
  },
  {
   "cell_type": "code",
   "execution_count": 72,
   "metadata": {},
   "outputs": [
    {
     "name": "stdout",
     "output_type": "stream",
     "text": [
      "CPU times: user 285 ms, sys: 17.3 ms, total: 303 ms\n",
      "Wall time: 303 ms\n"
     ]
    }
   ],
   "source": [
    "%%time\n",
    "gen_im = generate_init(pop_len)"
   ]
  },
  {
   "cell_type": "code",
   "execution_count": 74,
   "metadata": {},
   "outputs": [
    {
     "name": "stdout",
     "output_type": "stream",
     "text": [
      "32.143690 [#.......................................] 285/10000\r"
     ]
    },
    {
     "ename": "KeyboardInterrupt",
     "evalue": "",
     "output_type": "error",
     "traceback": [
      "\u001b[0;31m---------------------------------------------------------------------------\u001b[0m",
      "\u001b[0;31mKeyboardInterrupt\u001b[0m                         Traceback (most recent call last)",
      "\u001b[0;32m<timed exec>\u001b[0m in \u001b[0;36m<module>\u001b[0;34m\u001b[0m\n",
      "\u001b[0;31mKeyboardInterrupt\u001b[0m: "
     ]
    }
   ],
   "source": [
    "%%time\n",
    "dif = 0.0\n",
    "last_fit = max_fit\n",
    "gene_pool = max_fit*pop_len\n",
    "for i in progressbar(range(gen_len), \"Computing:\", 40):\n",
    "    children = []\n",
    "    for being in gen_im:\n",
    "        if rnd() < 0.5:\n",
    "            rnd_fig = random_surf()\n",
    "            surface = cairo.ImageSurface.create_for_data(\n",
    "                being['image'], cairo.FORMAT_ARGB32, 512, 512)\n",
    "            con = cairo.Context(surface)\n",
    "            con.set_source_surface(rnd_fig)\n",
    "            con.paint()\n",
    "            being['figs'].append(rnd_fig)\n",
    "            being['fitness'] = fitness(being['image'])\n",
    "        if being['fitness'] > last_fit:\n",
    "            gene_pool += being['fitness']\n",
    "#     for j in range(1, len(gen_im)):\n",
    "# #         for k in range(j+1, len(gen_im)):\n",
    "#         if len(gen_im[j]['figs']) != 0 and len(gen_im[j-1]['figs']) != 0:\n",
    "#             child = crossover(gen_im[j], gen_im[j-1])\n",
    "#             if child['fitness'] < last_fit:\n",
    "#                 children.append(child)\n",
    "#                 gene_pool += child['fitness']\n",
    "    gen_im += children\n",
    "    sorted(gen_im, key=key)\n",
    "    new_gen = []\n",
    "    for b in gen_im:\n",
    "        if len(new_gen) >= pop_len:\n",
    "            break\n",
    "        if b['fitness'] < last_fit:\n",
    "            part = ceil(pop_len*(b['fitness']/gene_pool))\n",
    "            new_gen += [copy(b) for i in range(part)]\n",
    "    if len(new_gen) < pop_len:\n",
    "        new_gen = generate_init(pop_len-len(new_gen)) + new_gen\n",
    "    gen_im = new_gen\n",
    "    dif = -(100*(gen_im[0]['fitness']/max_fit) - 100.0)\n",
    "    if gen_im[0]['fitness'] != last_fit:\n",
    "        s_temp = cairo.ImageSurface.create_for_data(\n",
    "                    gen_im[0]['image'], cairo.FORMAT_ARGB32, 512, 512)\n",
    "        f = open('samples/gen_%d.png' % i, 'wb')\n",
    "        s_temp.write_to_png(f)\n",
    "        f.close()\n",
    "            "
   ]
  },
  {
   "cell_type": "code",
   "execution_count": 6,
   "metadata": {},
   "outputs": [],
   "source": [
    "def key(obj):\n",
    "    return obj.get('fitness')"
   ]
  },
  {
   "cell_type": "code",
   "execution_count": 64,
   "metadata": {},
   "outputs": [],
   "source": [
    "def progressbar(it, prefix=\"\", size=60, file=sys.stdout):\n",
    "    count = len(it)\n",
    "    def show(j):\n",
    "        x = int(size*j/count)\n",
    "        file.write(\"%f [%s%s] %i/%i\\r\" % (dif, \"#\"*x, \".\"*(size-x), j, count))\n",
    "        file.flush()        \n",
    "    show(0)\n",
    "    for i, item in enumerate(it):\n",
    "        yield item\n",
    "        show(i+1)\n",
    "    file.write(\"\\n\")\n",
    "    file.flush()"
   ]
  },
  {
   "cell_type": "code",
   "execution_count": 52,
   "metadata": {},
   "outputs": [],
   "source": [
    "def random_surf():\n",
    "    mutation_rate = 0.3\n",
    "    s = cairo.RecordingSurface(cairo.Content.COLOR_ALPHA, None)\n",
    "    cr = cairo.Context(s)\n",
    "    cr.scale(512, 512)\n",
    "    cr.move_to(rnd(), rnd())\n",
    "    cr.rel_line_to(rnd()*mutation_rate, rnd()*mutation_rate)\n",
    "    cr.rel_line_to(rnd()*mutation_rate, rnd()*mutation_rate)\n",
    "    cr.set_source_rgba(*colors[randrange(0, len(colors))])\n",
    "    cr.fill_preserve()\n",
    "    return s"
   ]
  },
  {
   "cell_type": "code",
   "execution_count": 9,
   "metadata": {},
   "outputs": [],
   "source": [
    "def bogosort(l):\n",
    "    new_l = []\n",
    "    while len(l) != 0:\n",
    "        new_l.append(l.pop(randrange(0, len(l))))\n",
    "    return new_l"
   ]
  },
  {
   "cell_type": "code",
   "execution_count": 38,
   "metadata": {},
   "outputs": [],
   "source": [
    "def crossover(mom, dad):\n",
    "    mom_f = list(mom['figs'])\n",
    "    dad_f = list(dad['figs'])\n",
    "    child = {\n",
    "        'image': np.zeros((512, 512, 4), dtype=np.uint8),\n",
    "        'figs': []\n",
    "    }\n",
    "    child['figs'] = bogosort(mom_f+dad_f)\n",
    "    \n",
    "    for i in range(len(child['figs'])//2):\n",
    "        child['figs'].pop()\n",
    "    \n",
    "    surface = cairo.ImageSurface.create_for_data(child['image'], cairo.FORMAT_ARGB32, 512, 512)\n",
    "    con = cairo.Context(surface)\n",
    "    for fig in child['figs']:\n",
    "        con.set_source_surface(fig)\n",
    "        con.paint()\n",
    "    child['fitness'] = fitness(child['image'])\n",
    "    return child"
   ]
  },
  {
   "cell_type": "code",
   "execution_count": 31,
   "metadata": {},
   "outputs": [],
   "source": [
    "@jit(nopython=True)\n",
    "def fitness(data):\n",
    "    return np.sum(np.sum((src_data - data)**2, axis=2)**0.5)\n",
    "    "
   ]
  }
 ],
 "metadata": {
  "kernelspec": {
   "display_name": "Python 3",
   "language": "python",
   "name": "python3"
  },
  "language_info": {
   "codemirror_mode": {
    "name": "ipython",
    "version": 3
   },
   "file_extension": ".py",
   "mimetype": "text/x-python",
   "name": "python",
   "nbconvert_exporter": "python",
   "pygments_lexer": "ipython3",
   "version": "3.7.7"
  }
 },
 "nbformat": 4,
 "nbformat_minor": 4
}
